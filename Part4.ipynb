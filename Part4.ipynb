{
 "cells": [
  {
   "cell_type": "markdown",
   "id": "c75709b5",
   "metadata": {},
   "source": [
    "# Сессия 4"
   ]
  },
  {
   "cell_type": "code",
   "execution_count": 1,
   "id": "0558996c",
   "metadata": {},
   "outputs": [],
   "source": [
    "import warnings\n",
    "warnings.filterwarnings(\"ignore\")\n",
    "\n",
    "import pandas as pd\n",
    "import sklearn\n",
    "import pickle\n",
    "import glob\n",
    "from sklearn.preprocessing import StandardScaler\n",
    "import codecs\n",
    "pd.options.display.max_columns = 500"
   ]
  },
  {
   "cell_type": "markdown",
   "id": "971db247",
   "metadata": {},
   "source": [
    "Импортировал модель для классификации в дальнейшем"
   ]
  },
  {
   "cell_type": "code",
   "execution_count": 2,
   "id": "82ea0e1a",
   "metadata": {},
   "outputs": [],
   "source": [
    "with open('model.pkl', 'rb') as f:\n",
    "    model = pickle.load(f)"
   ]
  },
  {
   "cell_type": "code",
   "execution_count": 3,
   "id": "a5b51e2b",
   "metadata": {},
   "outputs": [],
   "source": [
    "df = pd.read_csv('input.csv')"
   ]
  },
  {
   "cell_type": "markdown",
   "id": "fa24ad48",
   "metadata": {},
   "source": [
    "Оставил только нужные атрибуты"
   ]
  },
  {
   "cell_type": "code",
   "execution_count": 4,
   "id": "f3378707",
   "metadata": {},
   "outputs": [],
   "source": [
    "df = df[['KMeans', 'properties.parent_region', 'properties.region','properties.address', 'properties.dead_count', 'properties.injured_count', 'properties.participants_count']]"
   ]
  },
  {
   "cell_type": "code",
   "execution_count": 5,
   "id": "38d77220",
   "metadata": {},
   "outputs": [
    {
     "data": {
      "text/html": [
       "<div>\n",
       "<style scoped>\n",
       "    .dataframe tbody tr th:only-of-type {\n",
       "        vertical-align: middle;\n",
       "    }\n",
       "\n",
       "    .dataframe tbody tr th {\n",
       "        vertical-align: top;\n",
       "    }\n",
       "\n",
       "    .dataframe thead th {\n",
       "        text-align: right;\n",
       "    }\n",
       "</style>\n",
       "<table border=\"1\" class=\"dataframe\">\n",
       "  <thead>\n",
       "    <tr style=\"text-align: right;\">\n",
       "      <th></th>\n",
       "      <th>KMeans</th>\n",
       "      <th>properties.parent_region</th>\n",
       "      <th>properties.region</th>\n",
       "      <th>properties.address</th>\n",
       "      <th>properties.dead_count</th>\n",
       "      <th>properties.injured_count</th>\n",
       "      <th>properties.participants_count</th>\n",
       "    </tr>\n",
       "  </thead>\n",
       "  <tbody>\n",
       "    <tr>\n",
       "      <th>0</th>\n",
       "      <td>Требует вмешательства</td>\n",
       "      <td>Алтайский край</td>\n",
       "      <td>Барнаул</td>\n",
       "      <td>г Барнаул, пр-кт Калинина, 16В</td>\n",
       "      <td>0</td>\n",
       "      <td>4</td>\n",
       "      <td>5</td>\n",
       "    </tr>\n",
       "    <tr>\n",
       "      <th>1</th>\n",
       "      <td>Требует немедленного вмешательства</td>\n",
       "      <td>Алтайский край</td>\n",
       "      <td>Первомайский район</td>\n",
       "      <td>Мостовой переход через р. Обь в г. Барнауле, 2 км</td>\n",
       "      <td>1</td>\n",
       "      <td>0</td>\n",
       "      <td>2</td>\n",
       "    </tr>\n",
       "    <tr>\n",
       "      <th>2</th>\n",
       "      <td>Требует немедленного вмешательства</td>\n",
       "      <td>Алтайский край</td>\n",
       "      <td>Шипуновский район</td>\n",
       "      <td>А-322 Барнаул - Рубцовск - граница с Республик...</td>\n",
       "      <td>2</td>\n",
       "      <td>2</td>\n",
       "      <td>5</td>\n",
       "    </tr>\n",
       "    <tr>\n",
       "      <th>3</th>\n",
       "      <td>Вмешательство не требуется</td>\n",
       "      <td>Алтайский край</td>\n",
       "      <td>Первомайский район</td>\n",
       "      <td>Р-256 Чуйский тракт Новосибирск - Барнаул - Го...</td>\n",
       "      <td>0</td>\n",
       "      <td>2</td>\n",
       "      <td>2</td>\n",
       "    </tr>\n",
       "    <tr>\n",
       "      <th>4</th>\n",
       "      <td>Вмешательство не требуется</td>\n",
       "      <td>Алтайский край</td>\n",
       "      <td>Барнаул</td>\n",
       "      <td>г Барнаул, тракт Змеиногорский, 25</td>\n",
       "      <td>0</td>\n",
       "      <td>1</td>\n",
       "      <td>2</td>\n",
       "    </tr>\n",
       "    <tr>\n",
       "      <th>...</th>\n",
       "      <td>...</td>\n",
       "      <td>...</td>\n",
       "      <td>...</td>\n",
       "      <td>...</td>\n",
       "      <td>...</td>\n",
       "      <td>...</td>\n",
       "      <td>...</td>\n",
       "    </tr>\n",
       "    <tr>\n",
       "      <th>35405</th>\n",
       "      <td>Вмешательство не требуется</td>\n",
       "      <td>Тверская область</td>\n",
       "      <td>Тверь</td>\n",
       "      <td>г Тверь, ул Шишкова, 97а</td>\n",
       "      <td>0</td>\n",
       "      <td>1</td>\n",
       "      <td>2</td>\n",
       "    </tr>\n",
       "    <tr>\n",
       "      <th>35406</th>\n",
       "      <td>Вмешательство не требуется</td>\n",
       "      <td>Ульяновская область</td>\n",
       "      <td>Барышский район</td>\n",
       "      <td>с Румянцево, ул Чкалова, 137</td>\n",
       "      <td>0</td>\n",
       "      <td>1</td>\n",
       "      <td>3</td>\n",
       "    </tr>\n",
       "    <tr>\n",
       "      <th>35407</th>\n",
       "      <td>Вмешательство не требуется</td>\n",
       "      <td>Воронежская область</td>\n",
       "      <td>Воронеж</td>\n",
       "      <td>г Воронеж, пр-кт Ленинский, 26 1</td>\n",
       "      <td>0</td>\n",
       "      <td>2</td>\n",
       "      <td>2</td>\n",
       "    </tr>\n",
       "    <tr>\n",
       "      <th>35408</th>\n",
       "      <td>Вмешательство не требуется</td>\n",
       "      <td>Воронежская область</td>\n",
       "      <td>Терновский район</td>\n",
       "      <td>ТЕРНОВКА - НАРОДНОЕ, 0 км</td>\n",
       "      <td>0</td>\n",
       "      <td>1</td>\n",
       "      <td>2</td>\n",
       "    </tr>\n",
       "    <tr>\n",
       "      <th>35409</th>\n",
       "      <td>Вмешательство не требуется</td>\n",
       "      <td>Воронежская область</td>\n",
       "      <td>Новоусманский район</td>\n",
       "      <td>М-4 Дон Москва - Воронеж - Ростов-на-Дону - Кр...</td>\n",
       "      <td>0</td>\n",
       "      <td>1</td>\n",
       "      <td>3</td>\n",
       "    </tr>\n",
       "  </tbody>\n",
       "</table>\n",
       "<p>35410 rows × 7 columns</p>\n",
       "</div>"
      ],
      "text/plain": [
       "                                   KMeans properties.parent_region  \\\n",
       "0                   Требует вмешательства           Алтайский край   \n",
       "1      Требует немедленного вмешательства           Алтайский край   \n",
       "2      Требует немедленного вмешательства           Алтайский край   \n",
       "3              Вмешательство не требуется           Алтайский край   \n",
       "4              Вмешательство не требуется           Алтайский край   \n",
       "...                                   ...                      ...   \n",
       "35405          Вмешательство не требуется         Тверская область   \n",
       "35406          Вмешательство не требуется      Ульяновская область   \n",
       "35407          Вмешательство не требуется      Воронежская область   \n",
       "35408          Вмешательство не требуется      Воронежская область   \n",
       "35409          Вмешательство не требуется      Воронежская область   \n",
       "\n",
       "         properties.region                                 properties.address  \\\n",
       "0                  Барнаул                     г Барнаул, пр-кт Калинина, 16В   \n",
       "1       Первомайский район  Мостовой переход через р. Обь в г. Барнауле, 2 км   \n",
       "2        Шипуновский район  А-322 Барнаул - Рубцовск - граница с Республик...   \n",
       "3       Первомайский район  Р-256 Чуйский тракт Новосибирск - Барнаул - Го...   \n",
       "4                  Барнаул                 г Барнаул, тракт Змеиногорский, 25   \n",
       "...                    ...                                                ...   \n",
       "35405                Тверь                           г Тверь, ул Шишкова, 97а   \n",
       "35406      Барышский район                       с Румянцево, ул Чкалова, 137   \n",
       "35407              Воронеж                   г Воронеж, пр-кт Ленинский, 26 1   \n",
       "35408     Терновский район                          ТЕРНОВКА - НАРОДНОЕ, 0 км   \n",
       "35409  Новоусманский район  М-4 Дон Москва - Воронеж - Ростов-на-Дону - Кр...   \n",
       "\n",
       "       properties.dead_count  properties.injured_count  \\\n",
       "0                          0                         4   \n",
       "1                          1                         0   \n",
       "2                          2                         2   \n",
       "3                          0                         2   \n",
       "4                          0                         1   \n",
       "...                      ...                       ...   \n",
       "35405                      0                         1   \n",
       "35406                      0                         1   \n",
       "35407                      0                         2   \n",
       "35408                      0                         1   \n",
       "35409                      0                         1   \n",
       "\n",
       "       properties.participants_count  \n",
       "0                                  5  \n",
       "1                                  2  \n",
       "2                                  5  \n",
       "3                                  2  \n",
       "4                                  2  \n",
       "...                              ...  \n",
       "35405                              2  \n",
       "35406                              3  \n",
       "35407                              2  \n",
       "35408                              2  \n",
       "35409                              3  \n",
       "\n",
       "[35410 rows x 7 columns]"
      ]
     },
     "execution_count": 5,
     "metadata": {},
     "output_type": "execute_result"
    }
   ],
   "source": [
    "df"
   ]
  },
  {
   "cell_type": "markdown",
   "id": "7aef3643",
   "metadata": {},
   "source": [
    "## 4.2 Разработка API"
   ]
  },
  {
   "cell_type": "markdown",
   "id": "ab4d3f42",
   "metadata": {},
   "source": [
    "Метод котрый возвращает все адреса по введенному региону и уровню опасности"
   ]
  },
  {
   "cell_type": "code",
   "execution_count": 6,
   "id": "54ff0029",
   "metadata": {},
   "outputs": [],
   "source": [
    "def city(name, metka):\n",
    "    return list(df.loc[(df['properties.parent_region']  == name) & (df['KMeans'] == metka), 'properties.address'])"
   ]
  },
  {
   "cell_type": "markdown",
   "id": "b236ebc5",
   "metadata": {},
   "source": [
    "Метод для получения единого фрейма данных из нескольких файлов"
   ]
  },
  {
   "cell_type": "code",
   "execution_count": 7,
   "id": "f0059114",
   "metadata": {},
   "outputs": [],
   "source": [
    "def filePath(path):\n",
    "    allfile = pd.DataFrame()    \n",
    "    for filename in glob.glob(path + '/*.csv'):\n",
    "        data = pd.read_csv(filename)\n",
    "        allfile.append(data)\n",
    "    allfile = allfile[['properties.dead_count', 'properties.injured_count', 'properties.participants_count']]\n",
    "    return allfile"
   ]
  },
  {
   "cell_type": "markdown",
   "id": "e4067058",
   "metadata": {},
   "source": [
    "Метод для предсказания меток"
   ]
  },
  {
   "cell_type": "code",
   "execution_count": 8,
   "id": "c943c71a",
   "metadata": {},
   "outputs": [],
   "source": [
    "def prediction(X):\n",
    "    scaler = StandardScaler()\n",
    "    sc = scaler.fit_transform(df.select_dtypes(exclude=['object', 'datetime64', 'string']))\n",
    "    pred = model.predict(X)\n",
    "    return pred"
   ]
  },
  {
   "cell_type": "markdown",
   "id": "55960b1a",
   "metadata": {},
   "source": [
    "## 4.1 Разработка бота"
   ]
  },
  {
   "cell_type": "code",
   "execution_count": 9,
   "id": "06a8d28f",
   "metadata": {},
   "outputs": [
    {
     "name": "stdout",
     "output_type": "stream",
     "text": [
      "User: город\n",
      "Bot:  пример = Москва\n",
      "\n",
      "Bot: Введите город\n",
      "User: Москва\n",
      "\n",
      "Bot:  Уровни опасности:\n",
      "Требует немедленного вмешательства-0\n",
      "Требует вмешательства-1\n",
      "Вмешательство не требуется-2\n",
      "\n",
      "Bot:  Введите уровень опасности\n",
      "User: 0\n",
      "\n",
      "Bot:  Введите сколько адресов вы хотите увидеть\n",
      "User: 10\n",
      "\n",
      "\n",
      "Bot:  г Москва, проезд Иртышский 1-й, 2, строение 8\n",
      "Bot:  г Москва, ул Шереметьевская, 85\n",
      "Bot:  г Москва, ул Болотниковская, 33 корп. 1\n",
      "Bot:  г Москва, ул Совхозная, 12\n",
      "Bot:  тер СНТ Полесье, 47\n",
      "Bot:  г Москва, пр-кт Зеленый, 13\n",
      "Bot:  г Москва, ш Дмитровское, 89\n",
      "Bot:  г Москва, км МКАД 94-й, 3999м\n",
      "Bot:  г Москва, проезд Коломенский, 17\n",
      "Bot:  г Москва, ул Красного Маяка, 16\n",
      "User: выход\n"
     ]
    }
   ],
   "source": [
    "while True:\n",
    "    inp = input('User: ').lower()\n",
    "    if inp == 'город':\n",
    "        print('Bot:  пример = Москва')\n",
    "        name = input('\\nBot: Введите город\\nUser: ')\n",
    "        print('\\nBot:  Уровни опасности:\\nТребует немедленного вмешательства-0\\nТребует вмешательства-1\\nВмешательство не требуется-2')\n",
    "        metka = input('\\nBot:  Введите уровень опасности\\nUser: ')\n",
    "        if metka == '0':\n",
    "            ct = city(name, 'Требует немедленного вмешательства')\n",
    "            cnt = int(input('\\nBot:  Введите сколько адресов вы хотите увидеть\\nUser: '))\n",
    "            print('\\n')\n",
    "            for i in range(0, cnt):\n",
    "                print('Bot:  '+ct[i])\n",
    "        elif metka == '1':\n",
    "            ct = city(name, 'Требует вмешательства')\n",
    "            cnt = int(input('\\nBot:  Введите сколько адресов вы хотите увидеть\\nUser: '))\n",
    "            print('\\n')\n",
    "            for i in range(0, cnt):\n",
    "                print('Bot:  '+ct[i])\n",
    "        elif metka == '2':\n",
    "            ct = city(name, 'Вмешательство не требуется')\n",
    "            cnt = int(input('\\nBot:  Введите сколько адресов вы хотите увидеть\\nUser: '))\n",
    "            print('\\n')\n",
    "            for i in range(0, cnt):\n",
    "                print('Bot:  '+ct[i])\n",
    "    \n",
    "    \n",
    "    elif inp == 'предсказание':\n",
    "        X = []\n",
    "        daed = [int(input('\\nBot:  Введите количество поигбших\\nUser: '))]\n",
    "        injured = [int(input('\\nBot:  Введите количество пострадавших\\nUser: '))]\n",
    "        patr = [int(input('\\nBot:  Введите количество участниклов дтп\\nUser: '))]\n",
    "        d = {'properties.dead_count':daed, 'properties.injured_count':injured, 'properties.participants_count':patr}\n",
    "        X = pd.DataFrame(data = d)\n",
    "        pr = prediction(X)\n",
    "        print('Bot:  '+pr[0])\n",
    "    \n",
    "    \n",
    "    if inp == 'дата':\n",
    "        print(r'Bot:  пример = C:\\files\\data')\n",
    "        path = input('User:  Введите путь к папке с файлами ')\n",
    "        allfile = filePath(path)\n",
    "        prall = prediction(allfile)\n",
    "        allfile['Предсказание'] = prall\n",
    "        \n",
    "        \n",
    "    elif inp == 'выход':\n",
    "        break"
   ]
  },
  {
   "cell_type": "code",
   "execution_count": 10,
   "id": "dc589635",
   "metadata": {},
   "outputs": [],
   "source": [
    "#'C:/Users/Force/ws1/second step/4/data'"
   ]
  }
 ],
 "metadata": {
  "kernelspec": {
   "display_name": "Python 3 (ipykernel)",
   "language": "python",
   "name": "python3"
  },
  "language_info": {
   "codemirror_mode": {
    "name": "ipython",
    "version": 3
   },
   "file_extension": ".py",
   "mimetype": "text/x-python",
   "name": "python",
   "nbconvert_exporter": "python",
   "pygments_lexer": "ipython3",
   "version": "3.9.12"
  }
 },
 "nbformat": 4,
 "nbformat_minor": 5
}
